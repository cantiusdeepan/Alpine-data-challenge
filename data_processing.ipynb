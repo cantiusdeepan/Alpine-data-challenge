{
 "cells": [
  {
   "cell_type": "code",
   "execution_count": 100,
   "metadata": {},
   "outputs": [],
   "source": [
    "import os\n",
    "import glob\n",
    "import pandas as pd\n",
    "import numpy as np"
   ]
  },
  {
   "cell_type": "code",
   "execution_count": 101,
   "metadata": {},
   "outputs": [],
   "source": [
    "col_name_map = {'tmedia':'tavg', 'umedia':'humidity_mean', 'umin':'humidity_min', 'umax':'humidity_max', 'ptot':'prcp', 'vmedia':'wspd', 'date':'time'}\n",
    "final_features = ['time', 'tavg', 'tmin', 'tmax', 'prcp', 'wspd','humidity_mean', 'humidity_min', 'humidity_max']"
   ]
  },
  {
   "cell_type": "code",
   "execution_count": 111,
   "metadata": {},
   "outputs": [
    {
     "name": "stdout",
     "output_type": "stream",
     "text": [
      "data\\AVIGLIANA.csv null cells ratio: 0.028272410675117952\n",
      "data\\BORGONE.csv null cells ratio: 0.016921837228041903\n",
      "data\\MODANE.csv null cells ratio: 0.1111111111111111\n",
      "data\\PRERICHARD.csv null cells ratio: 0.025730994152046785\n",
      "data\\SALBELTRAND.csv null cells ratio: 0.027969410128883897\n",
      "data\\SOLLIERES.csv null cells ratio: 0.053892695436150176\n",
      "data\\ST_FRANCOIS.csv null cells ratio: 0.09921271879538332\n",
      "data\\ST_MICHEL.csv null cells ratio: 0.1111111111111111\n"
     ]
    }
   ],
   "source": [
    "main_df = pd.DataFrame(pd.date_range(start='1990-01-01', end=pd.Timestamp.today(), freq='D').date, columns = ['time'])\n",
    "\n",
    "dfs = []\n",
    "for filepath in glob.glob('data/*.csv'):\n",
    "    df = pd.read_csv(filepath)\n",
    "    df.rename(columns=col_name_map, inplace=True)\n",
    "    df = df[[col for col in final_features if col in df.columns]]\n",
    "    prefix = os.path.basename(filepath)[:4]\n",
    "    # Prefix all columns except the 'time' column\n",
    "    df.columns = [col if col == 'time' else prefix + '_' + col for col in df.columns]\n",
    "    print(f\"{filepath} null cells ratio:\", df.isnull().sum().sum() / df.size)\n",
    "    df['time'] = pd.to_datetime(df['time'])\n",
    "    df['time'] = df['time'].dt.date\n",
    "    df.sort_index(inplace=True)\n",
    "    df.ffill(inplace=True)\n",
    "    main_df = main_df.merge(df, on='time', how='left')\n",
    "\n",
    "main_df.set_index('time', inplace = True)\n",
    "main_df.dropna(how='all', inplace=True)\n",
    "main_df.to_csv('processed_large_feat_space/climate_data_maur_susa.csv')"
   ]
  },
  {
   "cell_type": "code",
   "execution_count": 110,
   "metadata": {},
   "outputs": [
    {
     "name": "stdout",
     "output_type": "stream",
     "text": [
      "data\\AVIGLIANA.csv null cells ratio: 0.028272410675117952\n",
      "data\\BORGONE.csv null cells ratio: 0.016921837228041903\n",
      "data\\MODANE.csv null cells ratio: 0.1111111111111111\n",
      "data\\PRERICHARD.csv null cells ratio: 0.025730994152046785\n",
      "data\\SALBELTRAND.csv null cells ratio: 0.027969410128883897\n",
      "data\\SOLLIERES.csv null cells ratio: 0.053892695436150176\n",
      "data\\ST_FRANCOIS.csv null cells ratio: 0.09921271879538332\n",
      "data\\ST_MICHEL.csv null cells ratio: 0.1111111111111111\n"
     ]
    }
   ],
   "source": [
    "dfs = []\n",
    "for filepath in glob.glob('data/*.csv'):\n",
    "    df = pd.read_csv(filepath)\n",
    "    df.rename(columns=col_name_map, inplace=True)\n",
    "    df = df[[col for col in final_features if col in df.columns]]\n",
    "    print(f\"{filepath} null cells ratio:\", df.isnull().sum().sum() / df.size)\n",
    "    df['time'] = pd.to_datetime(df['time']).dt.date\n",
    "    df.sort_index(inplace=True)\n",
    "    df.ffill(inplace=True)\n",
    "    file_id = os.path.basename(filepath)[:4]\n",
    "    df['source'] = file_id\n",
    "    dfs.append(df)\n",
    "\n",
    "main_df = pd.concat(dfs, ignore_index=True)\n",
    "# Create binary indicator columns for each CSV file\n",
    "source_dummies = pd.get_dummies(main_df['source'])\n",
    "main_df = pd.concat([main_df, source_dummies], axis=1)\n",
    "main_df.drop(columns=['source'], inplace=True)\n",
    "main_df.set_index('time', inplace=True)\n",
    "main_df.to_csv('processed_small_feat_space/climate_data_maur_susa.csv')"
   ]
  }
 ],
 "metadata": {
  "kernelspec": {
   "display_name": "Python 3",
   "language": "python",
   "name": "python3"
  },
  "language_info": {
   "codemirror_mode": {
    "name": "ipython",
    "version": 3
   },
   "file_extension": ".py",
   "mimetype": "text/x-python",
   "name": "python",
   "nbconvert_exporter": "python",
   "pygments_lexer": "ipython3",
   "version": "3.12.3"
  }
 },
 "nbformat": 4,
 "nbformat_minor": 2
}
