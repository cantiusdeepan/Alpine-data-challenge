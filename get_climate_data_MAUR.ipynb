{
 "cells": [
  {
   "cell_type": "code",
   "execution_count": 1,
   "metadata": {},
   "outputs": [],
   "source": [
    "from meteostat import Stations, Daily\n",
    "from datetime import datetime\n",
    "import pandas as pd"
   ]
  },
  {
   "cell_type": "code",
   "execution_count": 2,
   "metadata": {},
   "outputs": [],
   "source": [
    "# Modane\n",
    "stations = Stations()\n",
    "station = stations.nearby(45.2, 6.67).fetch(1)  \n",
    "station_id = station.index[0]\n",
    "start = datetime(1990, 1, 1)\n",
    "end = datetime(2025, 1, 1)\n",
    "data = Daily(station_id, start, end)\n",
    "data = data.fetch()\n",
    "data.to_csv(\"data/MODANE.csv\")"
   ]
  },
  {
   "cell_type": "code",
   "execution_count": 3,
   "metadata": {},
   "outputs": [],
   "source": [
    "# Saint-Michel-de-Maurienne\n",
    "stations = Stations()\n",
    "station = stations.nearby(45.2, 6.47).fetch(1)  \n",
    "station_id = station.index[0]\n",
    "start = datetime(1990, 1, 1)\n",
    "end = datetime(2025, 1, 1)\n",
    "data = Daily(station_id, start, end)\n",
    "data = data.fetch()\n",
    "data.to_csv(\"data/SAINT_MICHEL.csv\")"
   ]
  },
  {
   "cell_type": "code",
   "execution_count": 4,
   "metadata": {},
   "outputs": [],
   "source": [
    "# Saint-François-Longchamp\n",
    "stations = Stations()\n",
    "station = stations.nearby(45.41, 6.35).fetch(1)  \n",
    "station_id = station.index[0]\n",
    "start = datetime(1990, 1, 1)\n",
    "end = datetime(2025, 1, 1)\n",
    "data = Daily(station_id, start, end)\n",
    "data = data.fetch()\n",
    "data.to_csv(\"data/SAINT_FRANCOIS.csv\")"
   ]
  },
  {
   "cell_type": "code",
   "execution_count": 5,
   "metadata": {},
   "outputs": [],
   "source": [
    "# Sollières l'Envers\n",
    "stations = Stations()\n",
    "station = stations.nearby(45.27, 6.79).fetch(1)  \n",
    "station_id = station.index[0]\n",
    "start = datetime(1990, 1, 1)\n",
    "end = datetime(2025, 1, 1)\n",
    "data = Daily(station_id, start, end)\n",
    "data = data.fetch()\n",
    "data.to_csv(\"data/SOLLIERES.csv\")"
   ]
  }
 ],
 "metadata": {
  "kernelspec": {
   "display_name": "Python 3",
   "language": "python",
   "name": "python3"
  },
  "language_info": {
   "codemirror_mode": {
    "name": "ipython",
    "version": 3
   },
   "file_extension": ".py",
   "mimetype": "text/x-python",
   "name": "python",
   "nbconvert_exporter": "python",
   "pygments_lexer": "ipython3",
   "version": "3.12.3"
  }
 },
 "nbformat": 4,
 "nbformat_minor": 2
}
